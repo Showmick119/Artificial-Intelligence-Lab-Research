{
  "nbformat": 4,
  "nbformat_minor": 0,
  "metadata": {
    "colab": {
      "provenance": [],
      "authorship_tag": "ABX9TyO3JkXtZ8GmkdSpgF01FRYS",
      "include_colab_link": true
    },
    "kernelspec": {
      "name": "python3",
      "display_name": "Python 3"
    },
    "language_info": {
      "name": "python"
    }
  },
  "cells": [
    {
      "cell_type": "markdown",
      "metadata": {
        "id": "view-in-github",
        "colab_type": "text"
      },
      "source": [
        "<a href=\"https://colab.research.google.com/github/Showmick119/GT-AI-Lab-Research/blob/main/chronos.ipynb\" target=\"_parent\"><img src=\"https://colab.research.google.com/assets/colab-badge.svg\" alt=\"Open In Colab\"/></a>"
      ]
    },
    {
      "cell_type": "markdown",
      "source": [
        "# **Install Dependencies**"
      ],
      "metadata": {
        "id": "tpaQlDVlxetV"
      }
    },
    {
      "cell_type": "code",
      "execution_count": null,
      "metadata": {
        "id": "259--YZOr1Lo"
      },
      "outputs": [],
      "source": [
        "!pip install samay-0.1.0-cp311-cp311-linux_x86_64.whl"
      ]
    },
    {
      "cell_type": "code",
      "source": [
        "!pip install --upgrade -U numpy --force"
      ],
      "metadata": {
        "id": "VGf7Oy_JxpYO"
      },
      "execution_count": null,
      "outputs": []
    },
    {
      "cell_type": "markdown",
      "source": [
        "# **Importing Requirements**"
      ],
      "metadata": {
        "id": "0cbiLmxU2Lw-"
      }
    },
    {
      "cell_type": "code",
      "source": [
        "from tsfmproject.model import ChronosModel\n",
        "from tsfmproject.dataset import ChronosDataset\n",
        "from tsfmproject.visualization import ForecastVisualization"
      ],
      "metadata": {
        "id": "APfhHKAU1qM3"
      },
      "execution_count": null,
      "outputs": []
    },
    {
      "cell_type": "markdown",
      "source": [
        "# **Training Dataset**"
      ],
      "metadata": {
        "id": "Gt2KUswn2UtL"
      }
    },
    {
      "cell_type": "code",
      "source": [
        "train_dataset = ChronosDataset(name=\"ett\", mode=\"train\", path='/nethome/sli999/TSFMProject/src/tsfmproject/models/moment/data/ETTh1.csv', datetime_col='date', freq='h', context_len=128, horizon_len=64)\n",
        "test_dataset = ChronosDataset(name=\"ett\", mode=\"test\", path='/nethome/sli999/TSFMProject/src/tsfmproject/models/moment/data/ETTh1.csv', datetime_col='date', freq='h', context_len=128, horizon_len=64)\n",
        "\n",
        "print(len(test_dataset.dataset))\n",
        "# print(test_dataset.dataset.shape)"
      ],
      "metadata": {
        "id": "MyUXzOME1sgo"
      },
      "execution_count": null,
      "outputs": []
    },
    {
      "cell_type": "markdown",
      "source": [
        "# **Loading the Chronos Model**"
      ],
      "metadata": {
        "id": "OgcxscvD3Ee8"
      }
    },
    {
      "cell_type": "code",
      "source": [
        "repo = \"amazon/chronos-t5-small\"\n",
        "ch = ChronosModel(config=None, repo=repo)\n",
        "ch.load_model()"
      ],
      "metadata": {
        "id": "K9Zmx3li1u5k"
      },
      "execution_count": null,
      "outputs": []
    },
    {
      "cell_type": "markdown",
      "source": [
        "# **Evaluated Results**"
      ],
      "metadata": {
        "id": "2I0VE7Uu3Jqt"
      }
    },
    {
      "cell_type": "code",
      "source": [
        "eval_results, trues, preds, histories = ch.evaluate(test_dataset, batch_size=8, metrics=[\"MSE\", \"MASE\"])\n",
        "print(eval_results)\n",
        "# visualization = ForecastVisualization(trues, preds[:,:,1,:], histories)\n",
        "# visualization.plot()"
      ],
      "metadata": {
        "id": "Z90jyPsp1ykH"
      },
      "execution_count": null,
      "outputs": []
    },
    {
      "cell_type": "markdown",
      "source": [
        "# **Visualizing Results**"
      ],
      "metadata": {
        "id": "iuzgw9uA3idf"
      }
    },
    {
      "cell_type": "code",
      "source": [
        "visualization = ForecastVisualization(trues, preds, histories)\n",
        "visualization.plot(channel_idx=0, time_idx=0)"
      ],
      "metadata": {
        "id": "LeFA_RVg12IS"
      },
      "execution_count": null,
      "outputs": []
    },
    {
      "cell_type": "markdown",
      "source": [
        "# **Finetuning**"
      ],
      "metadata": {
        "id": "DE5-HDC53n4_"
      }
    },
    {
      "cell_type": "code",
      "source": [
        "ch.finetune(train_dataset)"
      ],
      "metadata": {
        "id": "XF2bgAXi125y"
      },
      "execution_count": null,
      "outputs": []
    },
    {
      "cell_type": "markdown",
      "source": [
        "# **Loading the Sequence to Sequence Model**"
      ],
      "metadata": {
        "id": "Szu7i0UU31IA"
      }
    },
    {
      "cell_type": "code",
      "source": [
        "latest_run_dir = ch.get_latest_run_dir()\n",
        "model_dir = os.path.join(latest_run_dir, \"checkpoint-final\")\n",
        "model_type = \"seq2seq\"\n",
        "model = ch.load_model(model_dir, model_type)"
      ],
      "metadata": {
        "id": "5IB_u3T0164d"
      },
      "execution_count": null,
      "outputs": []
    },
    {
      "cell_type": "markdown",
      "source": [
        "# **Evaluating Results on seq2seq Model**"
      ],
      "metadata": {
        "id": "Wgrg7Yxj4l7g"
      }
    },
    {
      "cell_type": "code",
      "source": [
        "eval_results, trues, preds, histories = ch.evaluate(test_dataset, batch_size=8, metrics=[\"MSE\", \"MASE\"])\n",
        "print(eval_results)"
      ],
      "metadata": {
        "id": "4zOcRXrf18hZ"
      },
      "execution_count": null,
      "outputs": []
    },
    {
      "cell_type": "markdown",
      "source": [
        "# **Visualizing Results on seq2seq Model**"
      ],
      "metadata": {
        "id": "frcLPZ-W4AOr"
      }
    },
    {
      "cell_type": "code",
      "source": [
        "visualization = ForecastVisualization(trues, preds, histories)\n",
        "visualization.plot(channel_idx=0, time_idx=0)"
      ],
      "metadata": {
        "id": "5Whw0DjV1-Tj"
      },
      "execution_count": null,
      "outputs": []
    }
  ]
}